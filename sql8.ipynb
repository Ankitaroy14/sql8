{
 "cells": [
  {
   "cell_type": "code",
   "execution_count": null,
   "id": "6c3a1133",
   "metadata": {},
   "outputs": [],
   "source": [
    "Write an SQL query to fetch intersecting records of two tables.\n",
    "\n",
    "(Select * from table1) Intersect (Select * from table2)\n",
    "\n",
    "\n",
    "Write an SQL query to show records from one table that another table does not\n",
    "have.\n",
    "\n",
    "\n",
    "select id from table1 where id not in ( select id from table2)"
   ]
  }
 ],
 "metadata": {
  "kernelspec": {
   "display_name": "Python 3 (ipykernel)",
   "language": "python",
   "name": "python3"
  },
  "language_info": {
   "codemirror_mode": {
    "name": "ipython",
    "version": 3
   },
   "file_extension": ".py",
   "mimetype": "text/x-python",
   "name": "python",
   "nbconvert_exporter": "python",
   "pygments_lexer": "ipython3",
   "version": "3.9.7"
  }
 },
 "nbformat": 4,
 "nbformat_minor": 5
}
